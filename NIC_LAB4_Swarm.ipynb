{
  "nbformat": 4,
  "nbformat_minor": 0,
  "metadata": {
    "colab": {
      "provenance": [],
      "gpuType": "T4",
      "include_colab_link": true
    },
    "kernelspec": {
      "name": "python3",
      "display_name": "Python 3"
    },
    "language_info": {
      "name": "python"
    },
    "accelerator": "GPU"
  },
  "cells": [
    {
      "cell_type": "markdown",
      "metadata": {
        "id": "view-in-github",
        "colab_type": "text"
      },
      "source": [
        "<a href=\"https://colab.research.google.com/github/Bosy-Ayman/DSAI-403-Nature-Inspired-Computation/blob/main/NIC_LAB4_Swarm.ipynb\" target=\"_parent\"><img src=\"https://colab.research.google.com/assets/colab-badge.svg\" alt=\"Open In Colab\"/></a>"
      ]
    },
    {
      "cell_type": "code",
      "source": [
        "import numpy as np\n",
        "import random\n",
        "import gc\n",
        "import time\n",
        "import tensorflow as tf\n",
        "from tensorflow import keras\n",
        "from tensorflow.keras import backend as K\n",
        "from tensorflow.keras.models import Model\n",
        "from tensorflow.keras.layers import Input, Conv2D, MaxPooling2D, UpSampling2D, Dropout, concatenate\n",
        "from tensorflow.keras.utils import to_categorical\n",
        "from collections import deque\n",
        "import copy\n",
        "import matplotlib.pyplot as plt\n"
      ],
      "metadata": {
        "id": "l-cdINlJdy3g"
      },
      "execution_count": null,
      "outputs": []
    },
    {
      "cell_type": "code",
      "source": [
        "\n",
        "seed = 42\n",
        "tf.random.set_seed(seed)\n",
        "np.random.seed(seed)\n",
        "random.seed(seed)\n"
      ],
      "metadata": {
        "id": "snDW_a0_d2id"
      },
      "execution_count": null,
      "outputs": []
    },
    {
      "cell_type": "markdown",
      "source": [
        "# Particle Swarm Optimization (PSO)\n"
      ],
      "metadata": {
        "id": "wFEHQuxdb-JI"
      }
    },
    {
      "cell_type": "code",
      "source": [
        "def generate_labels(n_samples, height, width, num_classes=4):\n",
        "    labels = np.random.randint(0, num_classes, (n_samples, height, width))\n",
        "    y_onehot = np.zeros((n_samples, height, width, num_classes))\n",
        "    for i in range(n_samples):\n",
        "        y_onehot[i] = to_categorical(labels[i], num_classes=num_classes)\n",
        "    return y_onehot.astype(np.float32)\n",
        "\n",
        "IMG_SIZE = 64\n",
        "X_train = np.random.rand(8, IMG_SIZE, IMG_SIZE, 2).astype(np.float32)\n",
        "Y_train = generate_labels(8, IMG_SIZE, IMG_SIZE)\n",
        "X_val = np.random.rand(4, IMG_SIZE, IMG_SIZE, 2).astype(np.float32)\n",
        "Y_val = generate_labels(4, IMG_SIZE, IMG_SIZE)\n",
        "\n",
        "train_gen = tf.data.Dataset.from_tensor_slices((X_train, Y_train)).batch(2)\n",
        "val_gen = tf.data.Dataset.from_tensor_slices((X_val, Y_val)).batch(2)\n",
        "\n",
        "# Metrics\n",
        "def dice_coef(y_true, y_pred):\n",
        "    y_true = tf.cast(tf.argmax(y_true, axis=-1), tf.float32)\n",
        "    y_pred = tf.cast(tf.argmax(y_pred, axis=-1), tf.float32)\n",
        "    num_classes = 4\n",
        "    dice = 0.0\n",
        "    for c in range(num_classes):\n",
        "        y_true_c = tf.cast(tf.equal(y_true, c), tf.float32)\n",
        "        y_pred_c = tf.cast(tf.equal(y_pred, c), tf.float32)\n",
        "        intersection = tf.reduce_sum(y_true_c * y_pred_c)\n",
        "        union = tf.reduce_sum(y_true_c) + tf.reduce_sum(y_pred_c)\n",
        "        dice += (2. * intersection + 1e-7) / (union + 1e-7)\n",
        "    return dice / num_classes\n",
        "\n",
        "def precision(y_true, y_pred):\n",
        "    y_true = tf.cast(tf.argmax(y_true, axis=-1), tf.float32)\n",
        "    y_pred = tf.cast(tf.argmax(y_pred, axis=-1), tf.float32)\n",
        "    num_classes = 4\n",
        "    prec = 0.0\n",
        "    for c in range(num_classes):\n",
        "        y_true_c = tf.cast(tf.equal(y_true, c), tf.float32)\n",
        "        y_pred_c = tf.cast(tf.equal(y_pred, c), tf.float32)\n",
        "        tp = tf.reduce_sum(y_true_c * y_pred_c)\n",
        "        fp = tf.reduce_sum(y_pred_c * (1 - y_true_c))\n",
        "        prec += tp / (tp + fp + 1e-7)\n",
        "    return prec / num_classes\n",
        "\n",
        "def sensitivity(y_true, y_pred):\n",
        "    y_true = tf.cast(tf.argmax(y_true, axis=-1), tf.float32)\n",
        "    y_pred = tf.cast(tf.argmax(y_pred, axis=-1), tf.float32)\n",
        "    num_classes = 4\n",
        "    sens = 0.0\n",
        "    for c in range(num_classes):\n",
        "        y_true_c = tf.cast(tf.equal(y_true, c), tf.float32)\n",
        "        y_pred_c = tf.cast(tf.equal(y_pred, c), tf.float32)\n",
        "        tp = tf.reduce_sum(y_true_c * y_pred_c)\n",
        "        fn = tf.reduce_sum(y_true_c * (1 - y_pred_c))\n",
        "        sens += tp / (tp + fn + 1e-7)\n",
        "    return sens / num_classes\n",
        "\n",
        "def specificity(y_true, y_pred):\n",
        "    y_true = tf.cast(tf.argmax(y_true, axis=-1), tf.float32)\n",
        "    y_pred = tf.cast(tf.argmax(y_pred, axis=-1), tf.float32)\n",
        "    num_classes = 4\n",
        "    spec = 0.0\n",
        "    for c in range(num_classes):\n",
        "        y_true_c = tf.cast(tf.equal(y_true, c), tf.float32)\n",
        "        y_pred_c = tf.cast(tf.equal(y_pred, c), tf.float32)\n",
        "        tn = tf.reduce_sum((1 - y_true_c) * (1 - y_pred_c))\n",
        "        fp = tf.reduce_sum((1 - y_true_c) * y_pred_c)\n",
        "        spec += tn / (tn + fp + 1e-7)\n",
        "    return spec / num_classes\n"
      ],
      "metadata": {
        "id": "25VlxW7-d-WW"
      },
      "execution_count": null,
      "outputs": []
    },
    {
      "cell_type": "code",
      "source": [
        "\n",
        "def build_unet(input_layer, ker_init, dropout):\n",
        "    # Encoder\n",
        "    conv1 = Conv2D(32, 3, activation='relu', padding='same', kernel_initializer=ker_init)(input_layer)\n",
        "    conv1 = Conv2D(32, 3, activation='relu', padding='same', kernel_initializer=ker_init)(conv1)\n",
        "    pool1 = MaxPooling2D((2,2))(conv1)\n",
        "\n",
        "    conv2 = Conv2D(64, 3, activation='relu', padding='same', kernel_initializer=ker_init)(pool1)\n",
        "    conv2 = Conv2D(64, 3, activation='relu', padding='same', kernel_initializer=ker_init)(conv2)\n",
        "    pool2 = MaxPooling2D((2,2))(conv2)\n",
        "\n",
        "    conv3 = Conv2D(128, 3, activation='relu', padding='same', kernel_initializer=ker_init)(pool2)\n",
        "    conv3 = Conv2D(128, 3, activation='relu', padding='same', kernel_initializer=ker_init)(conv3)\n",
        "    pool3 = MaxPooling2D((2,2))(conv3)\n",
        "\n",
        "    conv4 = Conv2D(256, 3, activation='relu', padding='same', kernel_initializer=ker_init)(pool3)\n",
        "    conv4 = Conv2D(256, 3, activation='relu', padding='same', kernel_initializer=ker_init)(conv4)\n",
        "    drop4 = Dropout(dropout)(conv4)\n",
        "\n",
        "    # Decoder\n",
        "    up1 = Conv2D(128, 2, activation='relu', padding='same', kernel_initializer=ker_init)(UpSampling2D((2,2))(drop4))\n",
        "    merge1 = concatenate([conv3, up1])\n",
        "    conv5 = Conv2D(128, 3, activation='relu', padding='same', kernel_initializer=ker_init)(merge1)\n",
        "    conv5 = Conv2D(128, 3, activation='relu', padding='same', kernel_initializer=ker_init)(conv5)\n",
        "\n",
        "    up2 = Conv2D(64, 2, activation='relu', padding='same', kernel_initializer=ker_init)(UpSampling2D((2,2))(conv5))\n",
        "    merge2 = concatenate([conv2, up2])\n",
        "    conv6 = Conv2D(64, 3, activation='relu', padding='same', kernel_initializer=ker_init)(merge2)\n",
        "    conv6 = Conv2D(64, 3, activation='relu', padding='same', kernel_initializer=ker_init)(conv6)\n",
        "\n",
        "    up3 = Conv2D(32, 2, activation='relu', padding='same', kernel_initializer=ker_init)(UpSampling2D((2,2))(conv6))\n",
        "    merge3 = concatenate([conv1, up3])\n",
        "    conv7 = Conv2D(32, 3, activation='relu', padding='same', kernel_initializer=ker_init)(merge3)\n",
        "    conv7 = Conv2D(32, 3, activation='relu', padding='same', kernel_initializer=ker_init)(conv7)\n",
        "\n",
        "    output = Conv2D(4, (1,1), activation='softmax')(conv7)\n",
        "    return Model(inputs=input_layer, outputs=output)\n"
      ],
      "metadata": {
        "id": "AgIge82KeTyp"
      },
      "execution_count": null,
      "outputs": []
    },
    {
      "cell_type": "markdown",
      "source": [
        "# Particle Swarm Optimization (PSO)\n"
      ],
      "metadata": {
        "id": "XjXiqncAhVVm"
      }
    },
    {
      "cell_type": "code",
      "source": [
        "\n",
        "class Particle:\n",
        "    def __init__(self, lr, dropout):\n",
        "        self.position = np.array([lr, dropout])\n",
        "        self.velocity = np.zeros(2)\n",
        "        self.best_pos = self.position.copy()\n",
        "        self.best_score = -np.inf  # For maximization\n",
        "\n",
        "def evaluate_pso(lr, dropout):\n",
        "    \"\"\"Train the U-Net briefly and return validation accuracy.\"\"\"\n",
        "    input_layer = Input((IMG_SIZE, IMG_SIZE, 2))\n",
        "    ker_init = tf.keras.initializers.HeNormal()\n",
        "    model = build_unet(input_layer, ker_init, dropout)\n",
        "    model.compile(\n",
        "        loss='categorical_crossentropy',\n",
        "        optimizer=keras.optimizers.Adam(learning_rate=lr),\n",
        "        metrics=['accuracy', dice_coef, precision, sensitivity, specificity]\n",
        "    )\n",
        "\n",
        "    history = model.fit(\n",
        "        train_gen,\n",
        "        validation_data=val_gen,\n",
        "        epochs=1,\n",
        "        steps_per_epoch=5,\n",
        "        verbose=0\n",
        "    )\n",
        "\n",
        "    val_acc = float(history.history['val_accuracy'][-1])\n",
        "\n",
        "    K.clear_session()\n",
        "    del model, history\n",
        "    gc.collect()\n",
        "\n",
        "    return val_acc"
      ],
      "metadata": {
        "id": "VauA1kuKeXF3"
      },
      "execution_count": null,
      "outputs": []
    },
    {
      "cell_type": "code",
      "source": [
        "\n",
        "def pso_optimize(n_particles=3, n_iter=5, lr_bounds=(1e-4, 1e-3), dropout_bounds=(0.1, 0.5)):\n",
        "    w, c1, c2 = 0.7, 1.5, 1.5\n",
        "    swarm = [Particle(random.uniform(*lr_bounds), random.uniform(*dropout_bounds)) for _ in range(n_particles)]\n",
        "    gbest_pos = None\n",
        "    gbest_score = -np.inf\n",
        "    pso_history = []\n",
        "\n",
        "    for iteration in range(n_iter):\n",
        "        print(f\"\\n=== PSO Iteration {iteration+1}/{n_iter} ===\")\n",
        "        iteration_best = -np.inf\n",
        "        for i, p in enumerate(swarm):\n",
        "            score = evaluate_pso(p.position[0], p.position[1])\n",
        "            print(f\"Particle {i+1}: lr={p.position[0]:.6f}, dropout={p.position[1]:.3f}, val_acc={score:.4f}\")\n",
        "\n",
        "            if score > p.best_score:\n",
        "                p.best_score = score\n",
        "                p.best_pos = p.position.copy()\n",
        "            if score > iteration_best:\n",
        "                iteration_best = score\n",
        "            if score > gbest_score:\n",
        "                gbest_score = score\n",
        "                gbest_pos = p.position.copy()\n",
        "\n",
        "            K.clear_session()\n",
        "            gc.collect()\n",
        "\n",
        "        pso_history.append((iteration + 1, gbest_score))\n",
        "        print(f\"PSO Best so far: {gbest_score:.4f}\")\n",
        "\n",
        "        for p in swarm:\n",
        "            r1, r2 = random.random(), random.random()\n",
        "            p.velocity = w * p.velocity + c1 * r1 * (p.best_pos - p.position) + c2 * r2 * (gbest_pos - p.position)\n",
        "            p.position += p.velocity\n",
        "            p.position[0] = np.clip(p.position[0], *lr_bounds)\n",
        "            p.position[1] = np.clip(p.position[1], *dropout_bounds)\n",
        "\n",
        "    return gbest_pos, gbest_score, pso_history\n",
        "\n",
        "print(\"Running PSO...\")\n",
        "best_pos, best_score_pso, pso_history = pso_optimize()\n",
        "print(f\"\\nPSO Best Hyperparameters: lr={best_pos[0]:.6f}, dropout={best_pos[1]:.3f}\")\n",
        "print(f\"PSO Best Validation Accuracy: {best_score_pso:.4f}\")\n"
      ],
      "metadata": {
        "colab": {
          "base_uri": "https://localhost:8080/"
        },
        "id": "0Z37jNrtecz2",
        "outputId": "ab81acd2-c96d-485c-a2cb-7e8646b4d00e"
      },
      "execution_count": null,
      "outputs": [
        {
          "output_type": "stream",
          "name": "stdout",
          "text": [
            "Running PSO...\n",
            "\n",
            "=== PSO Iteration 1/5 ===\n"
          ]
        },
        {
          "output_type": "stream",
          "name": "stderr",
          "text": [
            "/usr/local/lib/python3.12/dist-packages/keras/src/trainers/epoch_iterator.py:116: UserWarning: Your input ran out of data; interrupting training. Make sure that your dataset or generator can generate at least `steps_per_epoch * epochs` batches. You may need to use the `.repeat()` function when building your dataset.\n",
            "  self._interrupted_warning()\n"
          ]
        },
        {
          "output_type": "stream",
          "name": "stdout",
          "text": [
            "Particle 1: lr=0.000675, dropout=0.110, val_acc=0.2488\n",
            "Particle 2: lr=0.000348, dropout=0.189, val_acc=0.2557\n",
            "Particle 3: lr=0.000763, dropout=0.371, val_acc=0.2460\n",
            "PSO Best so far: 0.2557\n",
            "\n",
            "=== PSO Iteration 2/5 ===\n",
            "Particle 1: lr=0.000379, dropout=0.182, val_acc=0.2480\n",
            "Particle 2: lr=0.000348, dropout=0.189, val_acc=0.2438\n",
            "Particle 3: lr=0.000501, dropout=0.257, val_acc=0.2507\n",
            "PSO Best so far: 0.2557\n",
            "\n",
            "=== PSO Iteration 3/5 ===\n",
            "Particle 1: lr=0.000466, dropout=0.161, val_acc=0.2503\n",
            "Particle 2: lr=0.000348, dropout=0.189, val_acc=0.2469\n",
            "Particle 3: lr=0.000297, dropout=0.167, val_acc=0.2515\n",
            "PSO Best so far: 0.2557\n",
            "\n",
            "=== PSO Iteration 4/5 ===\n",
            "Particle 1: lr=0.000504, dropout=0.151, val_acc=0.2527\n",
            "Particle 2: lr=0.000348, dropout=0.189, val_acc=0.2482\n",
            "Particle 3: lr=0.000202, dropout=0.126, val_acc=0.2519\n",
            "PSO Best so far: 0.2557\n",
            "\n",
            "=== PSO Iteration 5/5 ===\n",
            "Particle 1: lr=0.000463, dropout=0.161, val_acc=0.2522\n",
            "Particle 2: lr=0.000348, dropout=0.189, val_acc=0.2505\n",
            "Particle 3: lr=0.000196, dropout=0.123, val_acc=0.2507\n",
            "PSO Best so far: 0.2557\n",
            "\n",
            "PSO Best Hyperparameters: lr=0.000348, dropout=0.189\n",
            "PSO Best Validation Accuracy: 0.2557\n"
          ]
        }
      ]
    },
    {
      "cell_type": "markdown",
      "source": [
        "# TABU Search\n"
      ],
      "metadata": {
        "id": "6BRqzduWfLvl"
      }
    },
    {
      "cell_type": "code",
      "source": [
        "def random_initial_solution(search_space, seed=None):\n",
        "    if seed is not None:\n",
        "        random.seed(seed)\n",
        "    solution = {}\n",
        "    for k, vals in search_space.items():\n",
        "        solution[k] = random.choice(vals)\n",
        "    return solution\n"
      ],
      "metadata": {
        "id": "Mw4mz4osehDn"
      },
      "execution_count": null,
      "outputs": []
    },
    {
      "cell_type": "code",
      "source": [
        "def neighborhood_of(solution, search_space):\n",
        "    neigh = []\n",
        "    for param, vals in search_space.items():\n",
        "        for v in vals:\n",
        "            if v != solution[param]:\n",
        "                new_sol = copy.deepcopy(solution)\n",
        "                new_sol[param] = v\n",
        "                move = (param, v)\n",
        "                neigh.append((new_sol, move))\n",
        "    return neigh"
      ],
      "metadata": {
        "id": "hHa6J9QvfQSb"
      },
      "execution_count": null,
      "outputs": []
    },
    {
      "cell_type": "code",
      "source": [
        "\n",
        "def evaluate_model(params):\n",
        "    lr = params['learning_rate']\n",
        "    dropout = params['dropout_rate']\n",
        "    input_layer = Input((IMG_SIZE, IMG_SIZE, 2))\n",
        "    ker_init = tf.keras.initializers.HeNormal()\n",
        "    model = build_unet(input_layer, ker_init, dropout)\n",
        "    model.compile(\n",
        "        loss='categorical_crossentropy',\n",
        "        optimizer=keras.optimizers.Adam(learning_rate=lr),\n",
        "        metrics=['accuracy', dice_coef, precision, sensitivity, specificity]\n",
        "    )\n",
        "\n",
        "    history = model.fit(\n",
        "        train_gen,\n",
        "        validation_data=val_gen,\n",
        "        epochs=1,\n",
        "        steps_per_epoch=4,\n",
        "        verbose=0\n",
        "    )\n",
        "\n",
        "    val_acc = float(history.history['val_accuracy'][-1])\n",
        "\n",
        "    K.clear_session()\n",
        "    del model, history\n",
        "    gc.collect()\n",
        "\n",
        "    return val_acc"
      ],
      "metadata": {
        "id": "MXKOBeiQfOvn"
      },
      "execution_count": null,
      "outputs": []
    },
    {
      "cell_type": "code",
      "source": [
        "\n",
        "def tabu_search(search_space, evaluate_fn, max_iters=20, tabu_size=7, seed=123, verbose=True):\n",
        "    random.seed(seed)\n",
        "\n",
        "    current = random_initial_solution(search_space, seed=seed)\n",
        "    current_score = evaluate_fn(current)\n",
        "    best = copy.deepcopy(current)\n",
        "    best_score = current_score\n",
        "\n",
        "    tabu_list = deque(maxlen=tabu_size)\n",
        "\n",
        "    eval_cache = {tuple(sorted(current.items())): current_score}\n",
        "\n",
        "    history = []\n",
        "    if verbose:\n",
        "        print(f\"Initial solution: {current} -> val_acc={current_score:.4f}\")\n",
        "\n",
        "    # Add initial to history\n",
        "    history.append({\n",
        "        \"iter\": 0,\n",
        "        \"current\": copy.deepcopy(current),\n",
        "        \"current_score\": current_score,\n",
        "        \"best\": copy.deepcopy(best),\n",
        "        \"best_score\": best_score,\n",
        "        \"move\": None,\n",
        "        \"used_aspiration\": False,\n",
        "        \"tabu_list\": list(tabu_list)\n",
        "    })\n",
        "\n",
        "    for it in range(1, max_iters+1):\n",
        "        neigh = neighborhood_of(current, search_space)\n",
        "\n",
        "        candidates = []\n",
        "        for sol, move in neigh:\n",
        "            key = tuple(sorted(sol.items()))\n",
        "            if key in eval_cache:\n",
        "                val_acc = eval_cache[key]\n",
        "            else:\n",
        "                val_acc = evaluate_fn(sol)\n",
        "                eval_cache[key] = val_acc\n",
        "            candidates.append((sol, move, val_acc))\n",
        "\n",
        "        candidates.sort(key=lambda x: x[2], reverse=True)\n",
        "\n",
        "        selected = None\n",
        "        for sol, move, val_acc in candidates:\n",
        "            if move in tabu_list:\n",
        "                if val_acc > best_score:\n",
        "                    selected = (sol, move, val_acc, True)\n",
        "                    break\n",
        "                else:\n",
        "                    continue\n",
        "            else:\n",
        "                selected = (sol, move, val_acc, False)\n",
        "                break\n",
        "\n",
        "        if selected is None:\n",
        "            sol, move, val_acc = candidates[0]\n",
        "            selected = (sol, move, val_acc, True)\n",
        "\n",
        "        new_sol, move_taken, new_score, used_aspiration = selected\n",
        "\n",
        "        tabu_list.append(move_taken)\n",
        "\n",
        "        current = new_sol\n",
        "        current_score = new_score\n",
        "\n",
        "        if current_score > best_score:\n",
        "            best_score = current_score\n",
        "            best = copy.deepcopy(current)\n",
        "            improved = True\n",
        "        else:\n",
        "            improved = False\n",
        "\n",
        "        history.append({\n",
        "            \"iter\": it,\n",
        "            \"current\": copy.deepcopy(current),\n",
        "            \"current_score\": current_score,\n",
        "            \"best\": copy.deepcopy(best),\n",
        "            \"best_score\": best_score,\n",
        "            \"move\": move_taken,\n",
        "            \"used_aspiration\": used_aspiration,\n",
        "            \"tabu_list\": list(tabu_list)\n",
        "        })\n",
        "\n",
        "        if verbose:\n",
        "            asp_txt = \" (aspiration)\" if used_aspiration else \"\"\n",
        "            imp_txt = \" IMPROVED!\" if improved else \"\"\n",
        "            print(f\"[Iter {it}] move: {move_taken}, val_acc={current_score:.4f}{asp_txt}{imp_txt} -> best={best_score:.4f}\")\n",
        "\n",
        "    if verbose:\n",
        "        print(\"Tabu Search finished.\")\n",
        "        print(f\"Best: {best} -> val_acc={best_score:.4f}\")\n",
        "\n",
        "    return best, best_score, history\n",
        "\n",
        "# Define search space for TABU\n",
        "search_space = {\n",
        "    \"learning_rate\": [1e-4, 1e-3, 5e-3],\n",
        "    \"dropout_rate\": [0.1, 0.3, 0.5]\n",
        "}\n",
        "\n",
        "print(\"\\nRunning TABU...\")\n",
        "start_time = time.time()\n",
        "best_params, best_score_tabu, tabu_history = tabu_search(\n",
        "    search_space=search_space,\n",
        "    evaluate_fn=evaluate_model,\n",
        "    max_iters=5,\n",
        "    tabu_size=5,\n",
        "    seed=seed,\n",
        "    verbose=True\n",
        ")\n",
        "elapsed = time.time() - start_time\n",
        "print(f\"\\nTotal time for Tabu: {elapsed:.1f}s\")\n",
        "print(\"Tabu Best hyperparameters found:\", best_params)\n",
        "print(\"Tabu Best validation accuracy:\", best_score_tabu)\n"
      ],
      "metadata": {
        "colab": {
          "base_uri": "https://localhost:8080/"
        },
        "id": "kHoDWZSKdayg",
        "outputId": "1744a636-8747-4739-da8c-17cbaeddcdb3"
      },
      "execution_count": null,
      "outputs": [
        {
          "output_type": "stream",
          "name": "stdout",
          "text": [
            "\n",
            "Running TABU...\n",
            "Initial solution: {'learning_rate': 0.005, 'dropout_rate': 0.1} -> val_acc=0.2543\n",
            "[Iter 1] move: ('dropout_rate', 0.3), val_acc=0.2540 -> best=0.2543\n",
            "[Iter 2] move: ('learning_rate', 0.0001), val_acc=0.2592 IMPROVED! -> best=0.2592\n",
            "[Iter 3] move: ('learning_rate', 0.005), val_acc=0.2540 -> best=0.2592\n",
            "[Iter 4] move: ('dropout_rate', 0.1), val_acc=0.2543 -> best=0.2592\n",
            "[Iter 5] move: ('learning_rate', 0.001), val_acc=0.2488 -> best=0.2592\n",
            "Tabu Search finished.\n",
            "Best: {'learning_rate': 0.0001, 'dropout_rate': 0.3} -> val_acc=0.2592\n",
            "\n",
            "Total time for Tabu: 142.9s\n",
            "Tabu Best hyperparameters found: {'learning_rate': 0.0001, 'dropout_rate': 0.3}\n",
            "Tabu Best validation accuracy: 0.25921630859375\n"
          ]
        }
      ]
    },
    {
      "cell_type": "markdown",
      "source": [
        "# Plot comparison\n"
      ],
      "metadata": {
        "id": "4KwZ0oAqeu5h"
      }
    },
    {
      "cell_type": "code",
      "source": [
        "\n",
        "pso_iterations, pso_accuracies = zip(*pso_history)\n",
        "tabu_iterations = [h[\"iter\"] for h in tabu_history]\n",
        "tabu_accuracies = [h[\"best_score\"] for h in tabu_history]\n",
        "\n",
        "plt.figure(figsize=(10, 6))\n",
        "plt.plot(pso_iterations, pso_accuracies, marker='x', linestyle='--', label='SWARM (PSO)')\n",
        "plt.plot(tabu_iterations, tabu_accuracies, marker='o', linestyle='-', label='TABU')\n",
        "plt.title(\"Algorithm Comparison\")\n",
        "plt.xlabel(\"Iteration\")\n",
        "plt.ylabel(\"Best Validation Accuracy\")\n",
        "plt.legend()\n",
        "plt.grid(True)\n",
        "plt.show()"
      ],
      "metadata": {
        "colab": {
          "base_uri": "https://localhost:8080/",
          "height": 564
        },
        "id": "5KBLeagRetFE",
        "outputId": "96243317-1363-4443-c63d-be067d359482"
      },
      "execution_count": null,
      "outputs": [
        {
          "output_type": "display_data",
          "data": {
            "text/plain": [
              "<Figure size 1000x600 with 1 Axes>"
            ],
            "image/png": "[encoded data removed]"
          },
          "metadata": {}
        }
      ]
    },
    {
      "cell_type": "code",
      "source": [],
      "metadata": {
        "id": "k0hCVk5chCCf"
      },
      "execution_count": null,
      "outputs": []
    },
    {
      "cell_type": "code",
      "source": [],
      "metadata": {
        "id": "7FnZhl7Jg_oN"
      },
      "execution_count": null,
      "outputs": []
    }
  ]
}